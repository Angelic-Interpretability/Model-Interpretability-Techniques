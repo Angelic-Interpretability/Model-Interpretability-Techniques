{
 "cells": [
  {
   "cell_type": "markdown",
   "metadata": {},
   "source": [
    "# Preliminaries: imports, start H2O, load data"
   ]
  },
  {
   "cell_type": "code",
   "execution_count": 1,
   "metadata": {},
   "outputs": [],
   "source": [
    "import sklearn\n",
    "import pandas as pd\n",
    "import numpy as np\n",
    "import shap\n",
    "import h2o\n",
    "from h2o.automl import H2OAutoML"
   ]
  },
  {
   "cell_type": "code",
   "execution_count": 2,
   "metadata": {},
   "outputs": [],
   "source": [
    "df = pd.read_csv('C:/Users/Karti/NEU/data/insurance.csv')"
   ]
  },
  {
   "cell_type": "code",
   "execution_count": 3,
   "metadata": {},
   "outputs": [
    {
     "data": {
      "text/html": [
       "<div>\n",
       "<style scoped>\n",
       "    .dataframe tbody tr th:only-of-type {\n",
       "        vertical-align: middle;\n",
       "    }\n",
       "\n",
       "    .dataframe tbody tr th {\n",
       "        vertical-align: top;\n",
       "    }\n",
       "\n",
       "    .dataframe thead th {\n",
       "        text-align: right;\n",
       "    }\n",
       "</style>\n",
       "<table border=\"1\" class=\"dataframe\">\n",
       "  <thead>\n",
       "    <tr style=\"text-align: right;\">\n",
       "      <th></th>\n",
       "      <th>age</th>\n",
       "      <th>sex</th>\n",
       "      <th>bmi</th>\n",
       "      <th>children</th>\n",
       "      <th>smoker</th>\n",
       "      <th>region</th>\n",
       "      <th>charges</th>\n",
       "    </tr>\n",
       "  </thead>\n",
       "  <tbody>\n",
       "    <tr>\n",
       "      <td>0</td>\n",
       "      <td>19</td>\n",
       "      <td>female</td>\n",
       "      <td>27.900</td>\n",
       "      <td>0</td>\n",
       "      <td>yes</td>\n",
       "      <td>southwest</td>\n",
       "      <td>16884.92400</td>\n",
       "    </tr>\n",
       "    <tr>\n",
       "      <td>1</td>\n",
       "      <td>18</td>\n",
       "      <td>male</td>\n",
       "      <td>33.770</td>\n",
       "      <td>1</td>\n",
       "      <td>no</td>\n",
       "      <td>southeast</td>\n",
       "      <td>1725.55230</td>\n",
       "    </tr>\n",
       "    <tr>\n",
       "      <td>2</td>\n",
       "      <td>28</td>\n",
       "      <td>male</td>\n",
       "      <td>33.000</td>\n",
       "      <td>3</td>\n",
       "      <td>no</td>\n",
       "      <td>southeast</td>\n",
       "      <td>4449.46200</td>\n",
       "    </tr>\n",
       "    <tr>\n",
       "      <td>3</td>\n",
       "      <td>33</td>\n",
       "      <td>male</td>\n",
       "      <td>22.705</td>\n",
       "      <td>0</td>\n",
       "      <td>no</td>\n",
       "      <td>northwest</td>\n",
       "      <td>21984.47061</td>\n",
       "    </tr>\n",
       "    <tr>\n",
       "      <td>4</td>\n",
       "      <td>32</td>\n",
       "      <td>male</td>\n",
       "      <td>28.880</td>\n",
       "      <td>0</td>\n",
       "      <td>no</td>\n",
       "      <td>northwest</td>\n",
       "      <td>3866.85520</td>\n",
       "    </tr>\n",
       "  </tbody>\n",
       "</table>\n",
       "</div>"
      ],
      "text/plain": [
       "   age     sex     bmi  children smoker     region      charges\n",
       "0   19  female  27.900         0    yes  southwest  16884.92400\n",
       "1   18    male  33.770         1     no  southeast   1725.55230\n",
       "2   28    male  33.000         3     no  southeast   4449.46200\n",
       "3   33    male  22.705         0     no  northwest  21984.47061\n",
       "4   32    male  28.880         0     no  northwest   3866.85520"
      ]
     },
     "execution_count": 3,
     "metadata": {},
     "output_type": "execute_result"
    }
   ],
   "source": [
    "df.head()"
   ]
  },
  {
   "cell_type": "code",
   "execution_count": 4,
   "metadata": {},
   "outputs": [
    {
     "name": "stdout",
     "output_type": "stream",
     "text": [
      "Checking whether there is an H2O instance running at http://localhost:54321 . connected.\n"
     ]
    },
    {
     "data": {
      "text/html": [
       "<div style=\"overflow:auto\"><table style=\"width:50%\"><tr><td>H2O_cluster_uptime:</td>\n",
       "<td>4 hours 20 mins</td></tr>\n",
       "<tr><td>H2O_cluster_timezone:</td>\n",
       "<td>America/New_York</td></tr>\n",
       "<tr><td>H2O_data_parsing_timezone:</td>\n",
       "<td>UTC</td></tr>\n",
       "<tr><td>H2O_cluster_version:</td>\n",
       "<td>3.30.0.2</td></tr>\n",
       "<tr><td>H2O_cluster_version_age:</td>\n",
       "<td>22 days </td></tr>\n",
       "<tr><td>H2O_cluster_name:</td>\n",
       "<td>H2O_from_python_Karti_c6zhqp</td></tr>\n",
       "<tr><td>H2O_cluster_total_nodes:</td>\n",
       "<td>1</td></tr>\n",
       "<tr><td>H2O_cluster_free_memory:</td>\n",
       "<td>10.17 Gb</td></tr>\n",
       "<tr><td>H2O_cluster_total_cores:</td>\n",
       "<td>12</td></tr>\n",
       "<tr><td>H2O_cluster_allowed_cores:</td>\n",
       "<td>12</td></tr>\n",
       "<tr><td>H2O_cluster_status:</td>\n",
       "<td>locked, healthy</td></tr>\n",
       "<tr><td>H2O_connection_url:</td>\n",
       "<td>http://localhost:54321</td></tr>\n",
       "<tr><td>H2O_connection_proxy:</td>\n",
       "<td>{\"http\": null, \"https\": null}</td></tr>\n",
       "<tr><td>H2O_internal_security:</td>\n",
       "<td>False</td></tr>\n",
       "<tr><td>H2O_API_Extensions:</td>\n",
       "<td>Amazon S3, Algos, AutoML, Core V3, TargetEncoder, Core V4</td></tr>\n",
       "<tr><td>Python_version:</td>\n",
       "<td>3.7.4 final</td></tr></table></div>"
      ],
      "text/plain": [
       "--------------------------  ---------------------------------------------------------\n",
       "H2O_cluster_uptime:         4 hours 20 mins\n",
       "H2O_cluster_timezone:       America/New_York\n",
       "H2O_data_parsing_timezone:  UTC\n",
       "H2O_cluster_version:        3.30.0.2\n",
       "H2O_cluster_version_age:    22 days\n",
       "H2O_cluster_name:           H2O_from_python_Karti_c6zhqp\n",
       "H2O_cluster_total_nodes:    1\n",
       "H2O_cluster_free_memory:    10.17 Gb\n",
       "H2O_cluster_total_cores:    12\n",
       "H2O_cluster_allowed_cores:  12\n",
       "H2O_cluster_status:         locked, healthy\n",
       "H2O_connection_url:         http://localhost:54321\n",
       "H2O_connection_proxy:       {\"http\": null, \"https\": null}\n",
       "H2O_internal_security:      False\n",
       "H2O_API_Extensions:         Amazon S3, Algos, AutoML, Core V3, TargetEncoder, Core V4\n",
       "Python_version:             3.7.4 final\n",
       "--------------------------  ---------------------------------------------------------"
      ]
     },
     "metadata": {},
     "output_type": "display_data"
    }
   ],
   "source": [
    "h2o.init()"
   ]
  },
  {
   "cell_type": "code",
   "execution_count": 5,
   "metadata": {},
   "outputs": [
    {
     "name": "stdout",
     "output_type": "stream",
     "text": [
      "Parse progress: |█████████████████████████████████████████████████████████| 100%\n"
     ]
    }
   ],
   "source": [
    "data_path = 'C:/Users/Karti/NEU/data/insurance.csv'\n",
    "h2o_df = h2o.import_file(data_path)"
   ]
  },
  {
   "cell_type": "code",
   "execution_count": 6,
   "metadata": {},
   "outputs": [],
   "source": [
    "splits = h2o_df.split_frame(ratios=[0.8],seed=1)\n",
    "train = splits[0]\n",
    "test = splits[1]"
   ]
  },
  {
   "cell_type": "code",
   "execution_count": 7,
   "metadata": {},
   "outputs": [],
   "source": [
    "y = \"charges\" \n",
    "x = h2o_df.columns \n",
    "x.remove(y)"
   ]
  },
  {
   "cell_type": "markdown",
   "metadata": {},
   "source": [
    "# Run h2o AutoML"
   ]
  },
  {
   "cell_type": "code",
   "execution_count": 8,
   "metadata": {},
   "outputs": [
    {
     "name": "stdout",
     "output_type": "stream",
     "text": [
      "AutoML progress: |█\n",
      "16:09:28.212: AutoML: XGBoost is not available; skipping it.\n",
      "\n",
      "███████████████████████████████████████████████████████| 100%\n"
     ]
    }
   ],
   "source": [
    "aml = H2OAutoML(max_runtime_secs=180, seed=1)\n",
    "aml.train(x=x,y=y, training_frame=train)"
   ]
  },
  {
   "cell_type": "code",
   "execution_count": 9,
   "metadata": {},
   "outputs": [
    {
     "data": {
      "text/html": [
       "<table>\n",
       "<thead>\n",
       "<tr><th>model_id                                           </th><th style=\"text-align: right;\">  mean_residual_deviance</th><th style=\"text-align: right;\">   rmse</th><th style=\"text-align: right;\">        mse</th><th style=\"text-align: right;\">    mae</th><th style=\"text-align: right;\">   rmsle</th></tr>\n",
       "</thead>\n",
       "<tbody>\n",
       "<tr><td>StackedEnsemble_AllModels_AutoML_20200521_160928   </td><td style=\"text-align: right;\">             1.95178e+07</td><td style=\"text-align: right;\">4417.89</td><td style=\"text-align: right;\">1.95178e+07</td><td style=\"text-align: right;\">2393.51</td><td style=\"text-align: right;\">0.404861</td></tr>\n",
       "<tr><td>StackedEnsemble_BestOfFamily_AutoML_20200521_160928</td><td style=\"text-align: right;\">             1.96316e+07</td><td style=\"text-align: right;\">4430.76</td><td style=\"text-align: right;\">1.96316e+07</td><td style=\"text-align: right;\">2415.14</td><td style=\"text-align: right;\">0.411037</td></tr>\n",
       "<tr><td>GBM_grid__1_AutoML_20200521_160928_model_1         </td><td style=\"text-align: right;\">             1.97322e+07</td><td style=\"text-align: right;\">4442.1 </td><td style=\"text-align: right;\">1.97322e+07</td><td style=\"text-align: right;\">2432.87</td><td style=\"text-align: right;\">0.417863</td></tr>\n",
       "<tr><td>GBM_grid__1_AutoML_20200521_160928_model_4         </td><td style=\"text-align: right;\">             1.99914e+07</td><td style=\"text-align: right;\">4471.17</td><td style=\"text-align: right;\">1.99914e+07</td><td style=\"text-align: right;\">2520.75</td><td style=\"text-align: right;\">0.415081</td></tr>\n",
       "<tr><td>GBM_grid__1_AutoML_20200521_160928_model_8         </td><td style=\"text-align: right;\">             2.00474e+07</td><td style=\"text-align: right;\">4477.43</td><td style=\"text-align: right;\">2.00474e+07</td><td style=\"text-align: right;\">2442.82</td><td style=\"text-align: right;\">0.421568</td></tr>\n",
       "<tr><td>GBM_grid__1_AutoML_20200521_160928_model_10        </td><td style=\"text-align: right;\">             2.03408e+07</td><td style=\"text-align: right;\">4510.08</td><td style=\"text-align: right;\">2.03408e+07</td><td style=\"text-align: right;\">2510.67</td><td style=\"text-align: right;\">0.440234</td></tr>\n",
       "<tr><td>GBM_grid__1_AutoML_20200521_160928_model_46        </td><td style=\"text-align: right;\">             2.05227e+07</td><td style=\"text-align: right;\">4530.2 </td><td style=\"text-align: right;\">2.05227e+07</td><td style=\"text-align: right;\">2510.88</td><td style=\"text-align: right;\">0.460756</td></tr>\n",
       "<tr><td>GBM_grid__1_AutoML_20200521_160928_model_29        </td><td style=\"text-align: right;\">             2.06272e+07</td><td style=\"text-align: right;\">4541.71</td><td style=\"text-align: right;\">2.06272e+07</td><td style=\"text-align: right;\">2607.01</td><td style=\"text-align: right;\">0.450299</td></tr>\n",
       "<tr><td>GBM_grid__1_AutoML_20200521_160928_model_43        </td><td style=\"text-align: right;\">             2.07472e+07</td><td style=\"text-align: right;\">4554.91</td><td style=\"text-align: right;\">2.07472e+07</td><td style=\"text-align: right;\">2616.74</td><td style=\"text-align: right;\">0.449175</td></tr>\n",
       "<tr><td>GBM_grid__1_AutoML_20200521_160928_model_14        </td><td style=\"text-align: right;\">             2.10932e+07</td><td style=\"text-align: right;\">4592.73</td><td style=\"text-align: right;\">2.10932e+07</td><td style=\"text-align: right;\">2616.26</td><td style=\"text-align: right;\">0.452068</td></tr>\n",
       "</tbody>\n",
       "</table>"
      ]
     },
     "metadata": {},
     "output_type": "display_data"
    },
    {
     "data": {
      "text/plain": []
     },
     "execution_count": 9,
     "metadata": {},
     "output_type": "execute_result"
    }
   ],
   "source": [
    "lb = aml.leaderboard\n",
    "lb.head()"
   ]
  },
  {
   "cell_type": "code",
   "execution_count": 10,
   "metadata": {},
   "outputs": [],
   "source": [
    "# Get model ids for all models in the AutoML Leaderboard\n",
    "model_ids = list(aml.leaderboard['model_id'].as_data_frame().iloc[:,0])\n",
    "# Get the \"All Models\" Stacked Ensemble model\n",
    "se = h2o.get_model([mid for mid in model_ids if \"StackedEnsemble_AllModels\" in mid][0])\n",
    "# Get the Stacked Ensemble metalearner model\n",
    "metalearner = h2o.get_model(se.metalearner()['name'])"
   ]
  },
  {
   "cell_type": "code",
   "execution_count": 11,
   "metadata": {},
   "outputs": [
    {
     "name": "stdout",
     "output_type": "stream",
     "text": [
      "stackedensemble prediction progress: |████████████████████████████████████| 100%\n"
     ]
    },
    {
     "data": {
      "text/html": [
       "<table>\n",
       "<thead>\n",
       "<tr><th style=\"text-align: right;\">  predict</th></tr>\n",
       "</thead>\n",
       "<tbody>\n",
       "<tr><td style=\"text-align: right;\">  6208.28</td></tr>\n",
       "<tr><td style=\"text-align: right;\"> 13734.7 </td></tr>\n",
       "<tr><td style=\"text-align: right;\"> 14604.9 </td></tr>\n",
       "<tr><td style=\"text-align: right;\">  2795.44</td></tr>\n",
       "<tr><td style=\"text-align: right;\"> 49550.8 </td></tr>\n",
       "<tr><td style=\"text-align: right;\">  6137.1 </td></tr>\n",
       "<tr><td style=\"text-align: right;\"> 48559.4 </td></tr>\n",
       "<tr><td style=\"text-align: right;\">  5504.66</td></tr>\n",
       "<tr><td style=\"text-align: right;\"> 17255.8 </td></tr>\n",
       "<tr><td style=\"text-align: right;\"> 12801   </td></tr>\n",
       "</tbody>\n",
       "</table>"
      ]
     },
     "metadata": {},
     "output_type": "display_data"
    },
    {
     "data": {
      "text/plain": []
     },
     "execution_count": 11,
     "metadata": {},
     "output_type": "execute_result"
    }
   ],
   "source": [
    "pred = aml.predict(test)\n",
    "pred.head()"
   ]
  },
  {
   "cell_type": "code",
   "execution_count": 12,
   "metadata": {},
   "outputs": [
    {
     "data": {
      "text/html": [
       "<table>\n",
       "<thead>\n",
       "<tr><th>model_id                                           </th><th style=\"text-align: right;\">  mean_residual_deviance</th><th style=\"text-align: right;\">   rmse</th><th style=\"text-align: right;\">        mse</th><th style=\"text-align: right;\">    mae</th><th style=\"text-align: right;\">   rmsle</th><th style=\"text-align: right;\">  training_time_ms</th><th style=\"text-align: right;\">  predict_time_per_row_ms</th></tr>\n",
       "</thead>\n",
       "<tbody>\n",
       "<tr><td>StackedEnsemble_AllModels_AutoML_20200521_160928   </td><td style=\"text-align: right;\">             1.95178e+07</td><td style=\"text-align: right;\">4417.89</td><td style=\"text-align: right;\">1.95178e+07</td><td style=\"text-align: right;\">2393.51</td><td style=\"text-align: right;\">0.404861</td><td style=\"text-align: right;\">               280</td><td style=\"text-align: right;\">                 0.159238</td></tr>\n",
       "<tr><td>StackedEnsemble_BestOfFamily_AutoML_20200521_160928</td><td style=\"text-align: right;\">             1.96316e+07</td><td style=\"text-align: right;\">4430.76</td><td style=\"text-align: right;\">1.96316e+07</td><td style=\"text-align: right;\">2415.14</td><td style=\"text-align: right;\">0.411037</td><td style=\"text-align: right;\">               152</td><td style=\"text-align: right;\">                 0.046001</td></tr>\n",
       "<tr><td>GBM_grid__1_AutoML_20200521_160928_model_1         </td><td style=\"text-align: right;\">             1.97322e+07</td><td style=\"text-align: right;\">4442.1 </td><td style=\"text-align: right;\">1.97322e+07</td><td style=\"text-align: right;\">2432.87</td><td style=\"text-align: right;\">0.417863</td><td style=\"text-align: right;\">                91</td><td style=\"text-align: right;\">                 0.014962</td></tr>\n",
       "<tr><td>GBM_grid__1_AutoML_20200521_160928_model_4         </td><td style=\"text-align: right;\">             1.99914e+07</td><td style=\"text-align: right;\">4471.17</td><td style=\"text-align: right;\">1.99914e+07</td><td style=\"text-align: right;\">2520.75</td><td style=\"text-align: right;\">0.415081</td><td style=\"text-align: right;\">               212</td><td style=\"text-align: right;\">                 0.014825</td></tr>\n",
       "<tr><td>GBM_grid__1_AutoML_20200521_160928_model_8         </td><td style=\"text-align: right;\">             2.00474e+07</td><td style=\"text-align: right;\">4477.43</td><td style=\"text-align: right;\">2.00474e+07</td><td style=\"text-align: right;\">2442.82</td><td style=\"text-align: right;\">0.421568</td><td style=\"text-align: right;\">               118</td><td style=\"text-align: right;\">                 0.010709</td></tr>\n",
       "<tr><td>GBM_grid__1_AutoML_20200521_160928_model_10        </td><td style=\"text-align: right;\">             2.03408e+07</td><td style=\"text-align: right;\">4510.08</td><td style=\"text-align: right;\">2.03408e+07</td><td style=\"text-align: right;\">2510.67</td><td style=\"text-align: right;\">0.440234</td><td style=\"text-align: right;\">                97</td><td style=\"text-align: right;\">                 0.017277</td></tr>\n",
       "<tr><td>GBM_grid__1_AutoML_20200521_160928_model_46        </td><td style=\"text-align: right;\">             2.05227e+07</td><td style=\"text-align: right;\">4530.2 </td><td style=\"text-align: right;\">2.05227e+07</td><td style=\"text-align: right;\">2510.88</td><td style=\"text-align: right;\">0.460756</td><td style=\"text-align: right;\">               156</td><td style=\"text-align: right;\">                 0.017223</td></tr>\n",
       "<tr><td>GBM_grid__1_AutoML_20200521_160928_model_29        </td><td style=\"text-align: right;\">             2.06272e+07</td><td style=\"text-align: right;\">4541.71</td><td style=\"text-align: right;\">2.06272e+07</td><td style=\"text-align: right;\">2607.01</td><td style=\"text-align: right;\">0.450299</td><td style=\"text-align: right;\">               151</td><td style=\"text-align: right;\">                 0.020761</td></tr>\n",
       "<tr><td>GBM_grid__1_AutoML_20200521_160928_model_43        </td><td style=\"text-align: right;\">             2.07472e+07</td><td style=\"text-align: right;\">4554.91</td><td style=\"text-align: right;\">2.07472e+07</td><td style=\"text-align: right;\">2616.74</td><td style=\"text-align: right;\">0.449175</td><td style=\"text-align: right;\">               231</td><td style=\"text-align: right;\">                 0.029505</td></tr>\n",
       "<tr><td>GBM_grid__1_AutoML_20200521_160928_model_14        </td><td style=\"text-align: right;\">             2.10932e+07</td><td style=\"text-align: right;\">4592.73</td><td style=\"text-align: right;\">2.10932e+07</td><td style=\"text-align: right;\">2616.26</td><td style=\"text-align: right;\">0.452068</td><td style=\"text-align: right;\">                98</td><td style=\"text-align: right;\">                 0.016189</td></tr>\n",
       "</tbody>\n",
       "</table>"
      ]
     },
     "metadata": {},
     "output_type": "display_data"
    },
    {
     "data": {
      "text/plain": []
     },
     "execution_count": 12,
     "metadata": {},
     "output_type": "execute_result"
    }
   ],
   "source": [
    "lb = h2o.automl.get_leaderboard(aml, extra_columns = 'ALL')\n",
    "lb"
   ]
  },
  {
   "cell_type": "markdown",
   "metadata": {},
   "source": [
    "# View 'Black box' model"
   ]
  },
  {
   "cell_type": "code",
   "execution_count": 13,
   "metadata": {},
   "outputs": [
    {
     "name": "stdout",
     "output_type": "stream",
     "text": [
      "Model Details\n",
      "=============\n",
      "H2OStackedEnsembleEstimator :  Stacked Ensemble\n",
      "Model Key:  StackedEnsemble_AllModels_AutoML_20200521_160928\n",
      "\n",
      "No model summary for this model\n",
      "\n",
      "ModelMetricsRegressionGLM: stackedensemble\n",
      "** Reported on train data. **\n",
      "\n",
      "MSE: 15666345.162742808\n",
      "RMSE: 3958.0734155322093\n",
      "MAE: 2205.8215304305054\n",
      "RMSLE: 0.360771370206251\n",
      "R^2: 0.8881586253169274\n",
      "Mean Residual Deviance: 15666345.162742808\n",
      "Null degrees of freedom: 1065\n",
      "Residual degrees of freedom: 1057\n",
      "Null deviance: 149321518899.49396\n",
      "Residual deviance: 16700323943.483833\n",
      "AIC: 20705.62597511269\n",
      "\n",
      "ModelMetricsRegressionGLM: stackedensemble\n",
      "** Reported on cross-validation data. **\n",
      "\n",
      "MSE: 19517768.178981844\n",
      "RMSE: 4417.89182517882\n",
      "MAE: 2393.5148730881783\n",
      "RMSLE: 0.4048608000034505\n",
      "R^2: 0.8606634795029184\n",
      "Mean Residual Deviance: 19517768.178981844\n",
      "Null degrees of freedom: 1065\n",
      "Residual degrees of freedom: 1053\n",
      "Null deviance: 149600136035.9225\n",
      "Residual deviance: 20805940878.794647\n",
      "AIC: 20947.94391273476\n"
     ]
    },
    {
     "data": {
      "text/plain": []
     },
     "execution_count": 13,
     "metadata": {},
     "output_type": "execute_result"
    }
   ],
   "source": [
    "#extract the best model in leaderboard list\n",
    "bst_model = aml.leader\n",
    "bst_model"
   ]
  },
  {
   "cell_type": "markdown",
   "metadata": {},
   "source": [
    "# Use a decision tree surrogate to generate explanations of the \"black box\" model\n",
    "#### First bind the \"black box\" model predictions onto the training frame"
   ]
  },
  {
   "cell_type": "code",
   "execution_count": 14,
   "metadata": {},
   "outputs": [
    {
     "name": "stdout",
     "output_type": "stream",
     "text": [
      "stackedensemble prediction progress: |████████████████████████████████████| 100%\n"
     ]
    }
   ],
   "source": [
    "preds = bst_model.predict(h2o_df)\n",
    "preds.columns = ['predicted_charges']\n",
    "frame_yhat = h2o_df.cbind(preds)"
   ]
  },
  {
   "cell_type": "markdown",
   "metadata": {},
   "source": [
    "#### Train decision tree surrogate model"
   ]
  },
  {
   "cell_type": "code",
   "execution_count": 16,
   "metadata": {},
   "outputs": [
    {
     "name": "stdout",
     "output_type": "stream",
     "text": [
      "gbm Model Build progress: |███████████████████████████████████████████████| 100%\n",
      "Model Details\n",
      "=============\n",
      "H2OGradientBoostingEstimator :  Gradient Boosting Machine\n",
      "Model Key:  dt_surrogate_mojo\n",
      "\n",
      "\n",
      "Model Summary: \n"
     ]
    },
    {
     "data": {
      "text/html": [
       "<div>\n",
       "<style scoped>\n",
       "    .dataframe tbody tr th:only-of-type {\n",
       "        vertical-align: middle;\n",
       "    }\n",
       "\n",
       "    .dataframe tbody tr th {\n",
       "        vertical-align: top;\n",
       "    }\n",
       "\n",
       "    .dataframe thead th {\n",
       "        text-align: right;\n",
       "    }\n",
       "</style>\n",
       "<table border=\"1\" class=\"dataframe\">\n",
       "  <thead>\n",
       "    <tr style=\"text-align: right;\">\n",
       "      <th></th>\n",
       "      <th></th>\n",
       "      <th>number_of_trees</th>\n",
       "      <th>number_of_internal_trees</th>\n",
       "      <th>model_size_in_bytes</th>\n",
       "      <th>min_depth</th>\n",
       "      <th>max_depth</th>\n",
       "      <th>mean_depth</th>\n",
       "      <th>min_leaves</th>\n",
       "      <th>max_leaves</th>\n",
       "      <th>mean_leaves</th>\n",
       "    </tr>\n",
       "  </thead>\n",
       "  <tbody>\n",
       "    <tr>\n",
       "      <td>0</td>\n",
       "      <td></td>\n",
       "      <td>1.0</td>\n",
       "      <td>1.0</td>\n",
       "      <td>158.0</td>\n",
       "      <td>3.0</td>\n",
       "      <td>3.0</td>\n",
       "      <td>3.0</td>\n",
       "      <td>8.0</td>\n",
       "      <td>8.0</td>\n",
       "      <td>8.0</td>\n",
       "    </tr>\n",
       "  </tbody>\n",
       "</table>\n",
       "</div>"
      ],
      "text/plain": [
       "     number_of_trees  number_of_internal_trees  model_size_in_bytes  \\\n",
       "0                1.0                       1.0                158.0   \n",
       "\n",
       "   min_depth  max_depth  mean_depth  min_leaves  max_leaves  mean_leaves  \n",
       "0        3.0        3.0         3.0         8.0         8.0          8.0  "
      ]
     },
     "metadata": {},
     "output_type": "display_data"
    },
    {
     "name": "stdout",
     "output_type": "stream",
     "text": [
      "\n",
      "\n",
      "ModelMetricsRegression: gbm\n",
      "** Reported on train data. **\n",
      "\n",
      "MSE: 105831136.87624091\n",
      "RMSE: 10287.426154108758\n",
      "MAE: 7369.9151155161035\n",
      "RMSLE: 0.7463192597253426\n",
      "Mean Residual Deviance: 105831136.87624091\n",
      "\n",
      "Scoring History: \n"
     ]
    },
    {
     "data": {
      "text/html": [
       "<div>\n",
       "<style scoped>\n",
       "    .dataframe tbody tr th:only-of-type {\n",
       "        vertical-align: middle;\n",
       "    }\n",
       "\n",
       "    .dataframe tbody tr th {\n",
       "        vertical-align: top;\n",
       "    }\n",
       "\n",
       "    .dataframe thead th {\n",
       "        text-align: right;\n",
       "    }\n",
       "</style>\n",
       "<table border=\"1\" class=\"dataframe\">\n",
       "  <thead>\n",
       "    <tr style=\"text-align: right;\">\n",
       "      <th></th>\n",
       "      <th></th>\n",
       "      <th>timestamp</th>\n",
       "      <th>duration</th>\n",
       "      <th>number_of_trees</th>\n",
       "      <th>training_rmse</th>\n",
       "      <th>training_mae</th>\n",
       "      <th>training_deviance</th>\n",
       "    </tr>\n",
       "  </thead>\n",
       "  <tbody>\n",
       "    <tr>\n",
       "      <td>0</td>\n",
       "      <td></td>\n",
       "      <td>2020-05-21 16:26:21</td>\n",
       "      <td>0.002 sec</td>\n",
       "      <td>0.0</td>\n",
       "      <td>11401.134471</td>\n",
       "      <td>8162.155637</td>\n",
       "      <td>1.299859e+08</td>\n",
       "    </tr>\n",
       "    <tr>\n",
       "      <td>1</td>\n",
       "      <td></td>\n",
       "      <td>2020-05-21 16:26:21</td>\n",
       "      <td>0.009 sec</td>\n",
       "      <td>1.0</td>\n",
       "      <td>10287.426154</td>\n",
       "      <td>7369.915116</td>\n",
       "      <td>1.058311e+08</td>\n",
       "    </tr>\n",
       "  </tbody>\n",
       "</table>\n",
       "</div>"
      ],
      "text/plain": [
       "               timestamp    duration  number_of_trees  training_rmse  \\\n",
       "0    2020-05-21 16:26:21   0.002 sec              0.0   11401.134471   \n",
       "1    2020-05-21 16:26:21   0.009 sec              1.0   10287.426154   \n",
       "\n",
       "   training_mae  training_deviance  \n",
       "0   8162.155637       1.299859e+08  \n",
       "1   7369.915116       1.058311e+08  "
      ]
     },
     "metadata": {},
     "output_type": "display_data"
    },
    {
     "name": "stdout",
     "output_type": "stream",
     "text": [
      "\n",
      "Variable Importances: \n"
     ]
    },
    {
     "data": {
      "text/html": [
       "<div>\n",
       "<style scoped>\n",
       "    .dataframe tbody tr th:only-of-type {\n",
       "        vertical-align: middle;\n",
       "    }\n",
       "\n",
       "    .dataframe tbody tr th {\n",
       "        vertical-align: top;\n",
       "    }\n",
       "\n",
       "    .dataframe thead th {\n",
       "        text-align: right;\n",
       "    }\n",
       "</style>\n",
       "<table border=\"1\" class=\"dataframe\">\n",
       "  <thead>\n",
       "    <tr style=\"text-align: right;\">\n",
       "      <th></th>\n",
       "      <th>variable</th>\n",
       "      <th>relative_importance</th>\n",
       "      <th>scaled_importance</th>\n",
       "      <th>percentage</th>\n",
       "    </tr>\n",
       "  </thead>\n",
       "  <tbody>\n",
       "    <tr>\n",
       "      <td>0</td>\n",
       "      <td>smoker</td>\n",
       "      <td>1.260001e+11</td>\n",
       "      <td>1.000000</td>\n",
       "      <td>0.740741</td>\n",
       "    </tr>\n",
       "    <tr>\n",
       "      <td>1</td>\n",
       "      <td>bmi</td>\n",
       "      <td>2.622015e+10</td>\n",
       "      <td>0.208096</td>\n",
       "      <td>0.154145</td>\n",
       "    </tr>\n",
       "    <tr>\n",
       "      <td>2</td>\n",
       "      <td>age</td>\n",
       "      <td>1.787988e+10</td>\n",
       "      <td>0.141904</td>\n",
       "      <td>0.105114</td>\n",
       "    </tr>\n",
       "    <tr>\n",
       "      <td>3</td>\n",
       "      <td>sex</td>\n",
       "      <td>0.000000e+00</td>\n",
       "      <td>0.000000</td>\n",
       "      <td>0.000000</td>\n",
       "    </tr>\n",
       "    <tr>\n",
       "      <td>4</td>\n",
       "      <td>children</td>\n",
       "      <td>0.000000e+00</td>\n",
       "      <td>0.000000</td>\n",
       "      <td>0.000000</td>\n",
       "    </tr>\n",
       "    <tr>\n",
       "      <td>5</td>\n",
       "      <td>region</td>\n",
       "      <td>0.000000e+00</td>\n",
       "      <td>0.000000</td>\n",
       "      <td>0.000000</td>\n",
       "    </tr>\n",
       "  </tbody>\n",
       "</table>\n",
       "</div>"
      ],
      "text/plain": [
       "   variable  relative_importance  scaled_importance  percentage\n",
       "0    smoker         1.260001e+11           1.000000    0.740741\n",
       "1       bmi         2.622015e+10           0.208096    0.154145\n",
       "2       age         1.787988e+10           0.141904    0.105114\n",
       "3       sex         0.000000e+00           0.000000    0.000000\n",
       "4  children         0.000000e+00           0.000000    0.000000\n",
       "5    region         0.000000e+00           0.000000    0.000000"
      ]
     },
     "metadata": {},
     "output_type": "display_data"
    },
    {
     "name": "stdout",
     "output_type": "stream",
     "text": [
      "\n",
      "Generated MOJO path:\n",
      " C:\\Users\\Karti\\dt_surrogate_mojo.zip\n"
     ]
    }
   ],
   "source": [
    "from h2o.estimators.gbm import H2OGradientBoostingEstimator\n",
    "\n",
    "\n",
    "yhat = 'predicted_charges'\n",
    "model_id = 'dt_surrogate_mojo'\n",
    "\n",
    "# train single tree surrogate model\n",
    "surrogate = H2OGradientBoostingEstimator(ntrees=1,\n",
    "                                         sample_rate=1,\n",
    "                                         col_sample_rate=1,\n",
    "                                         max_depth=3,\n",
    "                                         seed=12345,\n",
    "                                         model_id=model_id)\n",
    "\n",
    "_ = surrogate.train(x=x, y=yhat, training_frame=frame_yhat)\n",
    "\n",
    "# persist MOJO (compiled, representation of trained model)\n",
    "# from which to generate plot of surrogate\n",
    "mojo_path = surrogate.download_mojo(path='.')\n",
    "\n",
    "print(surrogate)\n",
    "print('Generated MOJO path:\\n', mojo_path)"
   ]
  },
  {
   "cell_type": "markdown",
   "metadata": {},
   "source": [
    "# Generate GraphViz representation of MOJO"
   ]
  },
  {
   "cell_type": "code",
   "execution_count": 17,
   "metadata": {},
   "outputs": [
    {
     "name": "stdout",
     "output_type": "stream",
     "text": [
      "Discovered H2O jar path:\n",
      " C:\\Users\\Karti\\Anaconda3\\lib\\site-packages\\h2o\\backend\\bin\\h2o.jar\n",
      "\n",
      "Calling external process ...\n",
      "java -cp C:\\Users\\Karti\\Anaconda3\\lib\\site-packages\\h2o\\backend\\bin\\h2o.jar hex.genmodel.tools.PrintMojo --tree 0 -i C:\\Users\\Karti\\dt_surrogate_mojo.zip -o dt_surrogate_mojo.gv --title Medical Charges Tree Surrogate\n"
     ]
    }
   ],
   "source": [
    "from h2o.backend import H2OLocalServer\n",
    "# for calling external processes\n",
    "import os\n",
    "import re\n",
    "import subprocess\n",
    "from subprocess import CalledProcessError\n",
    "import time\n",
    "\n",
    "\n",
    "\n",
    "details = False # print more info on tree, details = True\n",
    "title = 'Medical Charges Tree Surrogate'\n",
    "\n",
    "hs = H2OLocalServer()\n",
    "h2o_jar_path = hs._find_jar()\n",
    "print('Discovered H2O jar path:\\n', h2o_jar_path)\n",
    "\n",
    "gv_file_name = model_id + '.gv'\n",
    "gv_args = str('-cp ' + h2o_jar_path +\n",
    "              ' hex.genmodel.tools.PrintMojo --tree 0 -i '\n",
    "              + mojo_path + ' -o').split()\n",
    "gv_args.insert(0, 'java')\n",
    "gv_args.append(gv_file_name)\n",
    "\n",
    "if details:\n",
    "    gv_args.append('--detail')\n",
    "\n",
    "if title is not None:\n",
    "    gv_args = gv_args + ['--title', title]\n",
    "    \n",
    "print()\n",
    "print('Calling external process ...')\n",
    "print(' '.join(gv_args))\n",
    "    \n",
    "_ = subprocess.call(gv_args)"
   ]
  },
  {
   "cell_type": "markdown",
   "metadata": {},
   "source": [
    "# Generate PNG from GraphViz representation"
   ]
  },
  {
   "cell_type": "code",
   "execution_count": 18,
   "metadata": {},
   "outputs": [
    {
     "name": "stdout",
     "output_type": "stream",
     "text": [
      "Calling external process ...\n",
      "dot -Tpng dt_surrogate_mojo.gv -o dt_surrogate_mojo.png\n"
     ]
    }
   ],
   "source": [
    "png_file_name = model_id + '.png'\n",
    "png_args = str('dot -Tpng ' + gv_file_name + ' -o ' + png_file_name)\n",
    "png_args = png_args.split()\n",
    "\n",
    "print('Calling external process ...')\n",
    "print(' '.join(png_args))\n",
    "\n",
    "_ = subprocess.call(png_args)"
   ]
  },
  {
   "cell_type": "code",
   "execution_count": 19,
   "metadata": {},
   "outputs": [
    {
     "data": {
      "image/png": "[encoded data removed]",
      "text/plain": [
       "<IPython.core.display.Image object>"
      ]
     },
     "metadata": {},
     "output_type": "display_data"
    }
   ],
   "source": [
    "# for in-notebook display \n",
    "from IPython.display import Image\n",
    "from IPython.display import display\n",
    "\n",
    "display(Image((png_file_name)))"
   ]
  },
  {
   "cell_type": "code",
   "execution_count": null,
   "metadata": {},
   "outputs": [],
   "source": [
    "# shutdown h2o\n",
    "h2o.cluster().shutdown(prompt=True)"
   ]
  }
 ],
 "metadata": {
  "kernelspec": {
   "display_name": "Python 3",
   "language": "python",
   "name": "python3"
  },
  "language_info": {
   "codemirror_mode": {
    "name": "ipython",
    "version": 3
   },
   "file_extension": ".py",
   "mimetype": "text/x-python",
   "name": "python",
   "nbconvert_exporter": "python",
   "pygments_lexer": "ipython3",
   "version": "3.7.4"
  }
 },
 "nbformat": 4,
 "nbformat_minor": 2
}
